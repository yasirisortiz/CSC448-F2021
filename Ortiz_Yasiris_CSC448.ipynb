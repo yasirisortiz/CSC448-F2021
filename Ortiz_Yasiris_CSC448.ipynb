{
 "cells": [
  {
   "cell_type": "markdown",
   "metadata": {},
   "source": [
    "## Hello Everyone!\n",
    "This is a Jupyter Notebook that I created for my CSC 301 Scientific Programming Class last semester. I hope you like it! 😇\n",
    "Some things I added to it:\n",
    "* More markdown features\n",
    "* AI meme\n"
   ]
  },
  {
   "cell_type": "markdown",
   "metadata": {},
   "source": [
    "#### The main purpose is to calculate  the definite integral of this function below,\n",
    "${I} = \\int_a^b {f(x)}\\,dx$\n",
    "#### where,\n",
    "${f(x)} = \\frac{100}{x^2}sin(\\frac{10}{x})$\n",
    "#### For an error bound of 10^-8 using both:\n",
    " * Composite Simpson's Rule\n",
    " * Adaptive Quadrature \n",
    " \n",
    "_Below you will find the application of each method, graph and results_"
   ]
  },
  {
   "cell_type": "code",
   "execution_count": 14,
   "metadata": {},
   "outputs": [],
   "source": [
    "# import libraries\n",
    "import numpy as np\n",
    "import matplotlib.pyplot as plt\n",
    "from IPython.display import display\n",
    "import pandas as pd\n",
    "\n",
    "# Definite Integral\n",
    "f = lambda x: 100/x**2*np.sin(10/x)\n",
    "x= np.linspace(1,3,100)\n",
    "y = f(x)"
   ]
  },
  {
   "cell_type": "markdown",
   "metadata": {},
   "source": [
    "#### Function Graph\n",
    "${f(x)} = \\frac{100}{x^2}sin(\\frac{10}{x})$"
   ]
  },
  {
   "cell_type": "code",
   "execution_count": 15,
   "metadata": {},
   "outputs": [
    {
     "data": {
      "image/png": "[encoded data removed]",
      "text/plain": [
       "<Figure size 432x288 with 1 Axes>"
      ]
     },
     "metadata": {
      "needs_background": "light"
     },
     "output_type": "display_data"
    }
   ],
   "source": [
    "plt.plot(x,y)\n",
    "plt.show()"
   ]
  },
  {
   "cell_type": "markdown",
   "metadata": {},
   "source": [
    "### Method 1: Composite Simpson's Rule\n",
    "Simpson's Rule is the technique to calculate the approximate value\n",
    "of definite integrals (Approximate Integration)\n",
    "### Formula:\n",
    "$\\int_a^b {f(x)}\\,dx≈ \\frac{h}{3}\\ {\\{f(a)+4f(\\frac{a+b}{2})\\ + f(b)}\\}$\n",
    "### Function:\n",
    "$\\int_a^b {f(x)}\\,dx≈ \\frac{h}{3}\\ {\\{f(a)+4f(\\frac{a+b}{2})\\ + f(b)}\\}$"
   ]
  },
  {
   "cell_type": "code",
   "execution_count": 16,
   "metadata": {},
   "outputs": [],
   "source": [
    "# Define function to be integrated \n",
    "def func(x):\n",
    "    return 100/x**2*np.sin(10/x)"
   ]
  },
  {
   "cell_type": "code",
   "execution_count": 17,
   "metadata": {},
   "outputs": [
    {
     "name": "stdout",
     "output_type": "stream",
     "text": [
      "-1.4260245889620544\n"
     ]
    }
   ],
   "source": [
    "# func: function f(x) calculated above\n",
    "# a, b: numbers (Interval of Integration)\n",
    "# N: number of subintervals, it has to be an even number\n",
    "\n",
    "def composite_simpson_method(func,a, b, N):\n",
    "    if N % 2 != 0:   # check if N is an even number\n",
    "        return None\n",
    "    \n",
    "    k = 0   \n",
    "    h = (b-a)/N   # calculate step size \n",
    "    integration = func(a) + func(b) # finding the sum\n",
    "    \n",
    "    for i in range(1, N):\n",
    "        k = a + i * h\n",
    "        if i % 2 == 0:\n",
    "            integration = integration + 2* func(k)\n",
    "        else:\n",
    "            integration = integration + 4* func(k)\n",
    "    integration = integration * h/3\n",
    "    \n",
    "    return integration\n",
    "\n",
    "# uncomment to print result\n",
    "print(composite_simpson_method(func,1,3,500)) \n",
    "# answer: -1.426024"
   ]
  },
  {
   "cell_type": "markdown",
   "metadata": {},
   "source": [
    "### Method 2: Adaptive Quadrature\n",
    "According to wikipedia, it is a numerical integration method\n",
    "which the integral of a function f(x) is approximated using static\n",
    "quadrature rules on adaptively refined subintervals of the region of integration.\n",
    "#### input: function f; endpoints a, b; tolerance tol; limit N to number of levels\n",
    "#### Output: float: approximation APP or message that N is exceeded\n"
   ]
  },
  {
   "cell_type": "code",
   "execution_count": 18,
   "metadata": {},
   "outputs": [
    {
     "name": "stdout",
     "output_type": "stream",
     "text": [
      "-1.4260247571802527\n"
     ]
    }
   ],
   "source": [
    "def adaptive_quadrature_method(func, a, b, tol):\n",
    "    tolerance_factor = 10.0\n",
    "    h = 0.5 * (b - a)\n",
    "    tol = 10**(-8)\n",
    "    \n",
    "    # sub-intervals \n",
    "    x0 = a \n",
    "    x1 = a + 0.5 * h\n",
    "    x2 = a + h\n",
    "    x3 = a + 1.5 * h\n",
    "    x4 = b\n",
    "    \n",
    "    \n",
    "    func0 = func(x0)\n",
    "    func1 = func(x1)\n",
    "    func2 = func(x2)\n",
    "    func3 = func(x3)\n",
    "    func4 = func(x4)\n",
    "    \n",
    "    \n",
    "    S0 = h * (func0 + 4.0 * func2 + func4) / 3.0\n",
    "    S1 = h * (func0 + 4.0 * func1 + 2.0 * func2 + 4.0 * func3 + func4) / 6.0\n",
    "    \n",
    "    if abs(S0 - S1) >= tolerance_factor * tol: \n",
    "        S = adaptive_quadrature_method(func, x0, x2, 0.5 * tol) +\\\n",
    "        adaptive_quadrature_method(func,x2, x4, 0.5 * tol)\n",
    "        \n",
    "    else:\n",
    "        S = S1 + (S1 - S0) / 15.0 \n",
    "    return S\n",
    "\n",
    "# uncomment to print result\n",
    "print(adaptive_quadrature_method(func,1,3, 10**(-8)))"
   ]
  },
  {
   "cell_type": "markdown",
   "metadata": {},
   "source": [
    "## Results and Analysis"
   ]
  },
  {
   "cell_type": "code",
   "execution_count": 19,
   "metadata": {},
   "outputs": [],
   "source": [
    "method1 = composite_simpson_method(func,1,3,500)\n",
    "method2 = adaptive_quadrature_method(func,1,3, 10**(-8)) # passing values to the function"
   ]
  },
  {
   "cell_type": "code",
   "execution_count": 20,
   "metadata": {},
   "outputs": [
    {
     "name": "stdout",
     "output_type": "stream",
     "text": [
      "Method              Result     \n",
      "\n",
      "Simpsons's          [-1.4260245889620544]\n",
      "Adaptive Quadrature [-1.4260247571802527]\n"
     ]
    }
   ],
   "source": [
    "d = {\n",
    "\"Simpsons's         \": [method1],\n",
    "\"Adaptive Quadrature\":[method2]}\n",
    "print (\"{:<15} {:<15}\".format('Method','    Result'))\n",
    "print()\n",
    "for k, v in d.items():\n",
    "    print (k, v)\n"
   ]
  },
  {
   "cell_type": "markdown",
   "metadata": {},
   "source": [
    "According to the result obtained, I can conclude that these two approximations are accurate. When the error bound equals 10^-8 and our N equals 500 helps to find how accurate the two methods are. In conclusion, there is not a weaker accuracy in this error bound.\n",
    "\n"
   ]
  },
  {
   "cell_type": "markdown",
   "metadata": {},
   "source": [
    "### Last but not least, I had included an AI meme because I want an arbitrary <span style=\"color:blue\">Brownie Point</span> 😊"
   ]
  },
  {
   "cell_type": "markdown",
   "metadata": {},
   "source": [
    "\n",
    "<img src=\"giphy.gif\" width=\"350\" align=\"center\">"
   ]
  },
  {
   "cell_type": "code",
   "execution_count": null,
   "metadata": {},
   "outputs": [],
   "source": []
  }
 ],
 "metadata": {
  "kernelspec": {
   "display_name": "Python 3",
   "language": "python",
   "name": "python3"
  },
  "language_info": {
   "codemirror_mode": {
    "name": "ipython",
    "version": 3
   },
   "file_extension": ".py",
   "mimetype": "text/x-python",
   "name": "python",
   "nbconvert_exporter": "python",
   "pygments_lexer": "ipython3",
   "version": "3.8.5"
  }
 },
 "nbformat": 4,
 "nbformat_minor": 4
}
